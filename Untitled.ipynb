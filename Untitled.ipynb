{
 "cells": [
  {
   "cell_type": "markdown",
   "id": "aa547d3e",
   "metadata": {},
   "source": [
    "# Hi julia welcome"
   ]
  },
  {
   "cell_type": "code",
   "execution_count": 1,
   "id": "461010a0",
   "metadata": {},
   "outputs": [
    {
     "data": {
      "text/plain": [
       "\"mk\""
      ]
     },
     "execution_count": 1,
     "metadata": {},
     "output_type": "execute_result"
    }
   ],
   "source": [
    "name=\"mk\""
   ]
  },
  {
   "cell_type": "code",
   "execution_count": 2,
   "id": "010bfe50",
   "metadata": {},
   "outputs": [
    {
     "name": "stdout",
     "output_type": "stream",
     "text": [
      "Hi Wecome\n"
     ]
    }
   ],
   "source": [
    "println(\"Hi Wecome\")"
   ]
  },
  {
   "cell_type": "code",
   "execution_count": 3,
   "id": "2cfa2fa3",
   "metadata": {},
   "outputs": [
    {
     "name": "stdout",
     "output_type": "stream",
     "text": [
      "Hi mk, welcome\n"
     ]
    }
   ],
   "source": [
    "println(\"Hi $name, welcome\")"
   ]
  },
  {
   "cell_type": "code",
   "execution_count": 8,
   "id": "de5a5a3a",
   "metadata": {},
   "outputs": [
    {
     "data": {
      "text/plain": [
       "7.0"
      ]
     },
     "execution_count": 8,
     "metadata": {},
     "output_type": "execute_result"
    }
   ],
   "source": [
    "age = round(rand()*100)"
   ]
  },
  {
   "cell_type": "code",
   "execution_count": 9,
   "id": "998dac6d",
   "metadata": {},
   "outputs": [
    {
     "name": "stdout",
     "output_type": "stream",
     "text": [
      "Hi mk, welcome. We guess you age as 7.0\n"
     ]
    }
   ],
   "source": [
    "println(\"Hi $name, welcome. We guess you age as $age\")"
   ]
  },
  {
   "cell_type": "code",
   "execution_count": null,
   "id": "8753311e",
   "metadata": {},
   "outputs": [],
   "source": [
    "arrayo = [\"mk\", \"ms\", \"m\"]"
   ]
  }
 ],
 "metadata": {
  "kernelspec": {
   "display_name": "Julia 1.6.3",
   "language": "julia",
   "name": "julia-1.6"
  },
  "language_info": {
   "file_extension": ".jl",
   "mimetype": "application/julia",
   "name": "julia",
   "version": "1.6.3"
  }
 },
 "nbformat": 4,
 "nbformat_minor": 5
}
