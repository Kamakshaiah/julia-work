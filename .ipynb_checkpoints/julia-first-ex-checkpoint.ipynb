{
 "cells": [
  {
   "cell_type": "markdown",
   "id": "aa275ada",
   "metadata": {},
   "source": [
    "# Hi julia welcome"
   ]
  },
  {
   "cell_type": "code",
   "execution_count": 1,
   "id": "46f12527",
   "metadata": {},
   "outputs": [
    {
     "data": {
      "text/plain": [
       "\"mk\""
      ]
     },
     "execution_count": 1,
     "metadata": {},
     "output_type": "execute_result"
    }
   ],
   "source": [
    "name=\"mk\""
   ]
  },
  {
   "cell_type": "code",
   "execution_count": 2,
   "id": "12bbf5f1",
   "metadata": {},
   "outputs": [
    {
     "name": "stdout",
     "output_type": "stream",
     "text": [
      "Hi Wecome\n"
     ]
    }
   ],
   "source": [
    "println(\"Hi Wecome\")"
   ]
  },
  {
   "cell_type": "code",
   "execution_count": 3,
   "id": "31b3a7e6",
   "metadata": {},
   "outputs": [
    {
     "name": "stdout",
     "output_type": "stream",
     "text": [
      "Hi mk, welcome\n"
     ]
    }
   ],
   "source": [
    "println(\"Hi $name, welcome\")"
   ]
  },
  {
   "cell_type": "code",
   "execution_count": 8,
   "id": "d8c9cbf9",
   "metadata": {},
   "outputs": [
    {
     "data": {
      "text/plain": [
       "7.0"
      ]
     },
     "execution_count": 8,
     "metadata": {},
     "output_type": "execute_result"
    }
   ],
   "source": [
    "age = round(rand()*100)"
   ]
  },
  {
   "cell_type": "code",
   "execution_count": 9,
   "id": "04fe1e72",
   "metadata": {},
   "outputs": [
    {
     "name": "stdout",
     "output_type": "stream",
     "text": [
      "Hi mk, welcome. We guess you age as 7.0\n"
     ]
    }
   ],
   "source": [
    "println(\"Hi $name, welcome. We guess you age as $age\")"
   ]
  },
  {
   "cell_type": "code",
   "execution_count": 10,
   "id": "5aed0e17",
   "metadata": {},
   "outputs": [
    {
     "data": {
      "text/plain": [
       "4-element Vector{String}:\n",
       " \"mk\"\n",
       " \"ms\"\n",
       " \"mya\"\n",
       " \"msb\""
      ]
     },
     "execution_count": 10,
     "metadata": {},
     "output_type": "execute_result"
    }
   ],
   "source": [
    "arrayo = [\"mk\", \"ms\", \"mya\", \"msb\"]"
   ]
  },
  {
   "cell_type": "code",
   "execution_count": 11,
   "id": "858dd702",
   "metadata": {},
   "outputs": [
    {
     "data": {
      "text/plain": [
       "\"mk\""
      ]
     },
     "execution_count": 11,
     "metadata": {},
     "output_type": "execute_result"
    }
   ],
   "source": [
    "arrayo[1]"
   ]
  },
  {
   "cell_type": "code",
   "execution_count": 13,
   "id": "b75d3ee8",
   "metadata": {},
   "outputs": [
    {
     "data": {
      "text/plain": [
       "3×2×2 Array{Float64, 3}:\n",
       "[:, :, 1] =\n",
       " 0.447267    0.442545\n",
       " 0.565509    0.222654\n",
       " 0.00329331  0.335266\n",
       "\n",
       "[:, :, 2] =\n",
       " 0.631517  0.808761\n",
       " 0.905955  0.827567\n",
       " 0.129011  0.216799"
      ]
     },
     "execution_count": 13,
     "metadata": {},
     "output_type": "execute_result"
    }
   ],
   "source": [
    "rand(3, 2, 2)"
   ]
  },
  {
   "cell_type": "code",
   "execution_count": null,
   "id": "37c06159",
   "metadata": {},
   "outputs": [],
   "source": []
  },
  {
   "cell_type": "code",
   "execution_count": null,
   "id": "5d4b500f",
   "metadata": {},
   "outputs": [],
   "source": []
  }
 ],
 "metadata": {
  "kernelspec": {
   "display_name": "Julia 1.6.3",
   "language": "julia",
   "name": "julia-1.6"
  },
  "language_info": {
   "file_extension": ".jl",
   "mimetype": "application/julia",
   "name": "julia",
   "version": "1.6.3"
  }
 },
 "nbformat": 4,
 "nbformat_minor": 5
}
